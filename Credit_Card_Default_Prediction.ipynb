{
  "nbformat": 4,
  "nbformat_minor": 0,
  "metadata": {
    "colab": {
      "provenance": []
    },
    "kernelspec": {
      "name": "python3",
      "display_name": "Python 3"
    },
    "language_info": {
      "name": "python"
    }
  },
  "cells": [
    {
      "cell_type": "code",
      "execution_count": 8,
      "metadata": {
        "id": "-FyFdRM8tJOX"
      },
      "outputs": [],
      "source": [
        "from google.colab import drive\n",
        "import pandas as pd\n",
        "\n"
      ]
    },
    {
      "cell_type": "code",
      "source": [
        "# import data\n",
        "drive.mount('/content/drive')\n",
        "!unzip \"/content/drive/MyDrive/default+of+credit+card+clients.zip\" -d \"/content/drive/MyDrive/Credit_data/\""
      ],
      "metadata": {
        "colab": {
          "base_uri": "https://localhost:8080/"
        },
        "id": "0dm1EwawuV5d",
        "outputId": "2b84b900-1c73-43cc-8b44-c9e5bcbebf25"
      },
      "execution_count": 6,
      "outputs": [
        {
          "output_type": "stream",
          "name": "stdout",
          "text": [
            "Drive already mounted at /content/drive; to attempt to forcibly remount, call drive.mount(\"/content/drive\", force_remount=True).\n",
            "Archive:  /content/drive/MyDrive/default+of+credit+card+clients.zip\n",
            "  inflating: /content/drive/MyDrive/Credit_data/default+of+credit+card+clients/default of credit card clients.xls  \n"
          ]
        }
      ]
    },
    {
      "cell_type": "code",
      "source": [
        "# read data\n",
        "credit_data = pd.read_excel('/content/drive/MyDrive/Credit_data/default+of+credit+card+clients/default of credit card clients.xls')"
      ],
      "metadata": {
        "id": "lcu8tfXVv7VM"
      },
      "execution_count": 9,
      "outputs": []
    },
    {
      "cell_type": "code",
      "source": [
        "# display the first few rows of the data\n",
        "print(credit_data.head())"
      ],
      "metadata": {
        "colab": {
          "base_uri": "https://localhost:8080/"
        },
        "id": "j-5EEif6wgMN",
        "outputId": "2e5015d9-c4b2-4b4e-c4b2-e2cf0358bbd6"
      },
      "execution_count": 11,
      "outputs": [
        {
          "output_type": "stream",
          "name": "stdout",
          "text": [
            "  Unnamed: 0         X1   X2         X3        X4   X5     X6     X7     X8  \\\n",
            "0         ID  LIMIT_BAL  SEX  EDUCATION  MARRIAGE  AGE  PAY_0  PAY_2  PAY_3   \n",
            "1          1      20000    2          2         1   24      2      2     -1   \n",
            "2          2     120000    2          2         2   26     -1      2      0   \n",
            "3          3      90000    2          2         2   34      0      0      0   \n",
            "4          4      50000    2          2         1   37      0      0      0   \n",
            "\n",
            "      X9  ...        X15        X16        X17       X18       X19       X20  \\\n",
            "0  PAY_4  ...  BILL_AMT4  BILL_AMT5  BILL_AMT6  PAY_AMT1  PAY_AMT2  PAY_AMT3   \n",
            "1     -1  ...          0          0          0         0       689         0   \n",
            "2      0  ...       3272       3455       3261         0      1000      1000   \n",
            "3      0  ...      14331      14948      15549      1518      1500      1000   \n",
            "4      0  ...      28314      28959      29547      2000      2019      1200   \n",
            "\n",
            "        X21       X22       X23                           Y  \n",
            "0  PAY_AMT4  PAY_AMT5  PAY_AMT6  default payment next month  \n",
            "1         0         0         0                           1  \n",
            "2      1000         0      2000                           1  \n",
            "3      1000      1000      5000                           0  \n",
            "4      1100      1069      1000                           0  \n",
            "\n",
            "[5 rows x 25 columns]\n"
          ]
        }
      ]
    },
    {
      "cell_type": "code",
      "source": [
        "# summary statistics of the data\n",
        "print(credit_data.describe())"
      ],
      "metadata": {
        "colab": {
          "base_uri": "https://localhost:8080/"
        },
        "id": "CenRCFDGxaMZ",
        "outputId": "d69ac355-aec5-40b3-cac2-1a17c0bc7c30"
      },
      "execution_count": 13,
      "outputs": [
        {
          "output_type": "stream",
          "name": "stdout",
          "text": [
            "       Unnamed: 0     X1     X2     X3     X4     X5     X6     X7     X8  \\\n",
            "count       30001  30001  30001  30001  30001  30001  30001  30001  30001   \n",
            "unique      30001     82      3      8      5     57     12     12     12   \n",
            "top            ID  50000      2      2      2     29      0      0      0   \n",
            "freq            1   3365  18112  14030  15964   1605  14737  15730  15764   \n",
            "\n",
            "           X9  ...    X15    X16    X17    X18    X19    X20    X21    X22  \\\n",
            "count   30001  ...  30001  30001  30001  30001  30001  30001  30001  30001   \n",
            "unique     12  ...  21549  21011  20605   7944   7900   7519   6938   6898   \n",
            "top         0  ...      0      0      0      0      0      0      0      0   \n",
            "freq    16455  ...   3195   3506   4020   5249   5396   5968   6408   6703   \n",
            "\n",
            "          X23      Y  \n",
            "count   30001  30001  \n",
            "unique   6940      3  \n",
            "top         0      0  \n",
            "freq     7173  23364  \n",
            "\n",
            "[4 rows x 25 columns]\n",
            "       Unnamed: 0     X1     X2     X3     X4     X5     X6     X7     X8  \\\n",
            "count       30001  30001  30001  30001  30001  30001  30001  30001  30001   \n",
            "unique      30001     82      3      8      5     57     12     12     12   \n",
            "top            ID  50000      2      2      2     29      0      0      0   \n",
            "freq            1   3365  18112  14030  15964   1605  14737  15730  15764   \n",
            "\n",
            "           X9  ...    X15    X16    X17    X18    X19    X20    X21    X22  \\\n",
            "count   30001  ...  30001  30001  30001  30001  30001  30001  30001  30001   \n",
            "unique     12  ...  21549  21011  20605   7944   7900   7519   6938   6898   \n",
            "top         0  ...      0      0      0      0      0      0      0      0   \n",
            "freq    16455  ...   3195   3506   4020   5249   5396   5968   6408   6703   \n",
            "\n",
            "          X23      Y  \n",
            "count   30001  30001  \n",
            "unique   6940      3  \n",
            "top         0      0  \n",
            "freq     7173  23364  \n",
            "\n",
            "[4 rows x 25 columns]\n"
          ]
        }
      ]
    },
    {
      "cell_type": "code",
      "source": [
        "# check for missing values\n",
        "print(credit_data.isnull().sum())"
      ],
      "metadata": {
        "colab": {
          "base_uri": "https://localhost:8080/"
        },
        "id": "2NLC_OCvx6Cp",
        "outputId": "2f082d63-c934-4c9c-c6a1-babb6a7505b6"
      },
      "execution_count": 15,
      "outputs": [
        {
          "output_type": "stream",
          "name": "stdout",
          "text": [
            "Unnamed: 0    0\n",
            "X1            0\n",
            "X2            0\n",
            "X3            0\n",
            "X4            0\n",
            "X5            0\n",
            "X6            0\n",
            "X7            0\n",
            "X8            0\n",
            "X9            0\n",
            "X10           0\n",
            "X11           0\n",
            "X12           0\n",
            "X13           0\n",
            "X14           0\n",
            "X15           0\n",
            "X16           0\n",
            "X17           0\n",
            "X18           0\n",
            "X19           0\n",
            "X20           0\n",
            "X21           0\n",
            "X22           0\n",
            "X23           0\n",
            "Y             0\n",
            "dtype: int64\n"
          ]
        }
      ]
    }
  ]
}